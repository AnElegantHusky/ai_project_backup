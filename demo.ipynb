{
 "cells": [
  {
   "cell_type": "code",
   "execution_count": 2,
   "metadata": {},
   "outputs": [],
   "source": [
    "import sys\n",
    "sys.path.append(\".\\\\aima\")"
   ]
  },
  {
   "cell_type": "code",
   "execution_count": 3,
   "metadata": {},
   "outputs": [],
   "source": [
    "from aima.utils import expr\n",
    "from aima.logic import FolKB, fol_fc_ask"
   ]
  },
  {
   "cell_type": "code",
   "execution_count": 5,
   "metadata": {},
   "outputs": [],
   "source": [
    "clauses = []\n",
    "# Add first-order logic clauses (rules and fact)\n",
    "clauses.append(expr(\"(American(x) & Weapon(y) & Sells(x, y, z) & Hostile(z)) ==> Criminal(x)\"))\n",
    "clauses.append(expr(\"Enemy(Nono, America)\"))\n",
    "clauses.append(expr(\"Owns(Nono, M1)\"))\n",
    "clauses.append(expr(\"Missile(M1)\"))\n",
    "clauses.append(expr(\"(Missile(x) & Owns(Nono, x)) ==> Sells(West, x, Nono)\"))\n",
    "clauses.append(expr(\"American(West)\"))\n",
    "clauses.append(expr(\"Missile(x) ==> Weapon(x)\"))\n"
   ]
  },
  {
   "cell_type": "code",
   "execution_count": 6,
   "metadata": {},
   "outputs": [],
   "source": [
    "# Create a first-order logic knowledge base (KB) with clauses\n",
    "KB = FolKB(clauses)\n",
    "# Add rules and facts with tell\n",
    "KB.tell(expr('Enemy(Coco, America)'))\n",
    "KB.tell(expr('Enemy(Jojo, America)'))\n",
    "KB.tell(expr(\"Enemy(x, America) ==> Hostile(x)\"))\n",
    "# Get information from the knowledge base with ask\n"
   ]
  },
  {
   "cell_type": "code",
   "execution_count": 7,
   "metadata": {},
   "outputs": [
    {
     "name": "stdout",
     "output_type": "stream",
     "text": [
      "Hostile?\n",
      "False\n",
      "\n",
      "Criminal?\n",
      "False\n",
      "\n"
     ]
    }
   ],
   "source": [
    "hostile = KB.ask(expr('Hostile(x)'))\n",
    "criminal = KB.ask(expr('Criminal(x)'))\n",
    "# Print answers\n",
    "print('Hostile?')\n",
    "print(hostile)\n",
    "print('\\nCriminal?')\n",
    "print(criminal)\n",
    "print()"
   ]
  },
  {
   "cell_type": "code",
   "execution_count": 8,
   "metadata": {},
   "outputs": [
    {
     "data": {
      "text/plain": [
       "False"
      ]
     },
     "execution_count": 8,
     "metadata": {},
     "output_type": "execute_result"
    }
   ],
   "source": [
    "hcc = KB.ask(expr('HCC(x)'))\n",
    "hcc"
   ]
  }
 ],
 "metadata": {
  "kernelspec": {
   "display_name": "Python 3",
   "language": "python",
   "name": "python3"
  },
  "language_info": {
   "codemirror_mode": {
    "name": "ipython",
    "version": 3
   },
   "file_extension": ".py",
   "mimetype": "text/x-python",
   "name": "python",
   "nbconvert_exporter": "python",
   "pygments_lexer": "ipython3",
   "version": "3.8.5"
  }
 },
 "nbformat": 4,
 "nbformat_minor": 4
}
